{
 "cells": [
  {
   "cell_type": "markdown",
   "metadata": {},
   "source": [
    "# 네이버 금융 사이트 크롤링"
   ]
  },
  {
   "cell_type": "markdown",
   "metadata": {},
   "source": [
    "### 0. 라이브러리 import"
   ]
  },
  {
   "cell_type": "code",
   "execution_count": 1,
   "metadata": {},
   "outputs": [],
   "source": [
    "import requests\n",
    "from bs4 import BeautifulSoup"
   ]
  },
  {
   "cell_type": "markdown",
   "metadata": {},
   "source": [
    "### 1. 크롤링 준비하기"
   ]
  },
  {
   "cell_type": "code",
   "execution_count": 2,
   "metadata": {},
   "outputs": [],
   "source": [
    "res = requests.get('https://finance.naver.com/sise/')\n",
    "soup = BeautifulSoup(res.content, 'html.parser')"
   ]
  },
  {
   "cell_type": "markdown",
   "metadata": {},
   "source": [
    "### 2. 국내증시 인기 검색 종목"
   ]
  },
  {
   "cell_type": "code",
   "execution_count": 3,
   "metadata": {},
   "outputs": [
    {
     "name": "stdout",
     "output_type": "stream",
     "text": [
      "알서포트\n",
      "모나미\n",
      "진원생명과학\n",
      "두산중공업\n",
      "우리들휴브레인\n",
      "삼성전자\n",
      "CJ씨푸드\n",
      "현대차\n",
      "카카오\n",
      "바이넥스\n"
     ]
    }
   ],
   "source": [
    "popular_keywords = soup.select('#popularItemList li a')\n",
    "for popular_keyword in popular_keywords:\n",
    "    print(popular_keyword.get_text())"
   ]
  },
  {
   "cell_type": "markdown",
   "metadata": {},
   "source": [
    "### 3. 주요 해외지수"
   ]
  },
  {
   "cell_type": "markdown",
   "metadata": {},
   "source": [
    "> 수치를 크롤링해야 하는데 고정 클래스 명은 없고 수치의 상승, 하락에 따라 클래스 명이 바뀐다. 태그로 크롤링 하기에는 li 태그 안에 span 태그가 2개이다..🤔"
   ]
  },
  {
   "cell_type": "code",
   "execution_count": 14,
   "metadata": {},
   "outputs": [
    {
     "name": "stdout",
     "output_type": "stream",
     "text": [
      "다우산업(상승)\n",
      " 나스닥(하락)\n",
      " 홍콩H(상승)\n",
      " 상해종합(상승)\n",
      " 니케이225(하락)\n"
     ]
    }
   ],
   "source": [
    "major_overseas_data_names = soup.select('.lst_major li a')\n",
    "# datas = soup.select('.lst_major li span')\n",
    "up_downs = soup.select('.lst_major .bu_p .blind')\n",
    "\n",
    "for major_overseas_data, data, up_down in zip(major_overseas_data_names, datas, up_downs):\n",
    "    print(major_overseas_data.get_text() + \"(\" + up_down.get_text() + \")\")"
   ]
  },
  {
   "cell_type": "markdown",
   "metadata": {},
   "source": [
    "### 4. Top 종목[시가총액상위]"
   ]
  },
  {
   "cell_type": "code",
   "execution_count": 17,
   "metadata": {},
   "outputs": [
    {
     "name": "stdout",
     "output_type": "stream",
     "text": [
      "삼성전자\n",
      "SK하이닉스\n",
      "NAVER\n",
      "LG화학\n",
      "삼성바이오로직스\n",
      "셀트리온\n",
      "삼성전자우\n",
      "현대차\n",
      "카카오\n",
      "삼성SDI\n"
     ]
    }
   ],
   "source": [
    "top_events = soup.select('#siselist_tab_7 .tltle')\n",
    "for event in top_events:\n",
    "    print(event.get_text())"
   ]
  },
  {
   "cell_type": "markdown",
   "metadata": {},
   "source": [
    "> 현재가 같은 정보는 같은 레벨의 태그에서 동일 클래스 명을 많이 사용하고 있어서 크롤링을 어떻게 할지 고민 필요.."
   ]
  }
 ],
 "metadata": {
  "kernelspec": {
   "display_name": "benny",
   "language": "python",
   "name": "benny"
  },
  "language_info": {
   "codemirror_mode": {
    "name": "ipython",
    "version": 3
   },
   "file_extension": ".py",
   "mimetype": "text/x-python",
   "name": "python",
   "nbconvert_exporter": "python",
   "pygments_lexer": "ipython3",
   "version": "3.7.6"
  }
 },
 "nbformat": 4,
 "nbformat_minor": 4
}
