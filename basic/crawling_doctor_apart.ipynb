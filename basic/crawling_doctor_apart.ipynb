{
 "cells": [
  {
   "cell_type": "markdown",
   "metadata": {},
   "source": [
    "# 닥터아파트 크롤링하기"
   ]
  },
  {
   "cell_type": "markdown",
   "metadata": {},
   "source": [
    "### 0. 라이브러리 import"
   ]
  },
  {
   "cell_type": "code",
   "execution_count": 4,
   "metadata": {},
   "outputs": [],
   "source": [
    "import requests\n",
    "from bs4 import BeautifulSoup\n",
    "import json\n",
    "import datetime"
   ]
  },
  {
   "cell_type": "markdown",
   "metadata": {},
   "source": [
    "### 1. 크롤링 준비하기"
   ]
  },
  {
   "cell_type": "code",
   "execution_count": 3,
   "metadata": {},
   "outputs": [],
   "source": [
    "res = requests.get('http://www.drapt.com/e_sale/index.htm?page_name=esale_news&menu_key=34')\n",
    "soup = BeautifulSoup(res.content, 'html.parser')"
   ]
  },
  {
   "cell_type": "markdown",
   "metadata": {},
   "source": [
    "### 2. 분양뉴스 타이틀 가져오기"
   ]
  },
  {
   "cell_type": "code",
   "execution_count": 5,
   "metadata": {},
   "outputs": [
    {
     "name": "stdout",
     "output_type": "stream",
     "text": [
      " 6만명 청약몰린 수색뉴타운…`DMC 3총사` 70점돼야 안심\n",
      " 규제묶이자…평택·인천 청약 차갑게 식는다\n",
      " 원베일리 분양가 5500만원? 4382만원?…정부 마음에 달렸다\n",
      " 지분형분양도 공공주도…결국 또 혈세투입?\n",
      " 내년 2월 수도권 민간택지 분양가상한제 주택 2~3년 거주의무\n",
      " 정부, 유휴부지 등 개발 속도내나…택지개발된 과천청사 내년 ..\n",
      " 뒤통수 맞은 50대 \"정부믿고 착실히 청약가점 쌓았는데…\"\n",
      " \"분양가 더 낮아지나\" 민간택지 분양가상한제 29일 본격 부활\n",
      " SH공사, 공공분양 건설원가 공개키로…업계 파장\n",
      " \"5억 로또는 우리 것\"…세대간 전쟁터 된 청약\n",
      " \"정부 믿고 20년 청약저축했는데\"…4050분노\n",
      " 30대 절규 이제야 들렸나…생애최초·신혼부부 특공 확대\n",
      " `124대1` 고덕강일 공공분양, 매월 10만원씩 18년 부어야 당첨\n",
      " \"입주 코앞인데 잔금대출 40%로 묶어\" 분양자들 날벼락\n",
      " \"분양전환하니 6억 로또\"…미사 부영아파트\n"
     ]
    }
   ],
   "source": [
    "title_list = soup.select('a.c0000000')\n",
    "\n",
    "for title in title_list:\n",
    "    print(title.get_text())"
   ]
  },
  {
   "cell_type": "markdown",
   "metadata": {},
   "source": [
    "### 3. 페이지가 넘어가는 분양뉴스 타이틀 가져오기"
   ]
  },
  {
   "cell_type": "code",
   "execution_count": 10,
   "metadata": {},
   "outputs": [
    {
     "name": "stdout",
     "output_type": "stream",
     "text": [
      " 6만명 청약몰린 수색뉴타운…`DMC 3총사` 70점돼야 안심 2020-08-27\n",
      " 규제묶이자…평택·인천 청약 차갑게 식는다 2020-08-26\n",
      " 원베일리 분양가 5500만원? 4382만원?…정부 마음에 달렸다 2020-08-19\n",
      " 지분형분양도 공공주도…결국 또 혈세투입? 2020-08-13\n",
      " 내년 2월 수도권 민간택지 분양가상한제 주택 2~3년 거주의무 2020-08-12\n",
      " 정부, 유휴부지 등 개발 속도내나…택지개발된 과천청사 내년 .. 2020-08-11\n",
      " 뒤통수 맞은 50대 \"정부믿고 착실히 청약가점 쌓았는데…\" 2020-08-07\n",
      " \"분양가 더 낮아지나\" 민간택지 분양가상한제 29일 본격 부활 2020-07-30\n",
      " SH공사, 공공분양 건설원가 공개키로…업계 파장 2020-07-29\n",
      " \"5억 로또는 우리 것\"…세대간 전쟁터 된 청약 2020-07-27\n",
      " \"정부 믿고 20년 청약저축했는데\"…4050분노 2020-07-13\n",
      " 30대 절규 이제야 들렸나…생애최초·신혼부부 특공 확대 2020-07-07\n",
      " `124대1` 고덕강일 공공분양, 매월 10만원씩 18년 부어야 당첨 2020-06-30\n",
      " \"입주 코앞인데 잔금대출 40%로 묶어\" 분양자들 날벼락 2020-06-26\n",
      " \"분양전환하니 6억 로또\"…미사 부영아파트 2020-06-26\n",
      " 강남구 분양가 또 `4750만원` 2020-06-25\n",
      " 잔금대출은 어찌하나…6.17대책에 청약 당첨되도 발동동 2020-06-25\n",
      " 가점 모자라, 추첨 없어져…`청포족` 된 30대, 울분의 매수 2020-06-24\n",
      " 둔촌주공 분양가 3천만원 넘길 듯 2020-06-17\n",
      " 투기판 된 청약…서울아파트 99대1 2020-06-16\n",
      " \"당첨되면 10억…이정도 불법쯤이야\"…적발된 가짜임신진단서만.. 2020-06-16\n",
      " HUG 분양가 규제…수억원 차익 `로또 청약`에 전국이 들썩 2020-06-16\n",
      " 5월 초 분양했던 고양 덕은 자이아파트, 미계약물량 `우수수` 2020-06-12\n",
      " `규제 시작되기 전에 아파트 마련하자`…전국에 청약 광풍 2020-06-05\n",
      " 서울 아닌 곳도 뜨거운 청약 열기…화성 동탄역헤리엇 150대 1 2020-06-04\n",
      " 9억 넘는 분양가에 대출 막혀…`그림의 떡` 청약 2020-06-04\n",
      " 수원에도 청약 부적격자 우수수…영통자이도 `줍줍` 2020-06-02\n",
      " 흑석리버파크자이 청약가점 만점 등장…서울서 1년 반만에 처음 2020-05-28\n",
      " 앞으로 수도권 모든 공공분양 최대 5년 거주 의무…못채우면 환.. 2020-05-27\n",
      " 수원 분양가도 최고가 경신 2020-05-27\n",
      " 규제 강화·코로나에도 청약 열기…흑석동 GS자이 96대 1 2020-05-21\n",
      " 결혼 7년 지나도 늦둥이 있으면 신혼희망타운 분양받는다 2020-05-19\n",
      " 유자녀 부부 신혼희망타운 청약해도 신혼부부 디딤돌대출은 안.. 2020-05-19\n",
      " 위례서 마지막 민간분양…서울·경기 공공택지 막판 청약률은 2020-05-18\n",
      " 높은 분양가에…\"가점 10점대 1인가구도 당첨\" 2020-05-18\n",
      " 시세10억 하남 아파트가 5억에 나왔다 2020-05-15\n",
      " 주택공급 확대·전매제한 강화 발표에도 청약시장 여전히… 2020-05-14\n",
      " \"분양권전매 막차타자\"…통장 5만개 몰렸다 2020-05-14\n",
      " \"분양권 규제전에…\" 송도 줍줍 몰려든 6만명 2020-05-13\n",
      " 공공분양 사전청약 해볼까…남양주·하남·과천·인천 첫선 2020-05-12\n",
      " 10년간 재당첨 금지…서울 청약규제 첫 적용 2020-05-11\n",
      " 수도권 3기 신도시 조기 분양한다…내년 9천가구 사전청약 2020-05-07\n",
      " 위례 2건 `줍줍`에…현금 16억 들고 4천명 달려왔다 2020-05-06\n",
      " 인천등 비규제지역 청약열기…`강남급`가점 2020-05-04\n",
      " 지역주택조합 아파트도 후분양 나온다 2020-04-27\n",
      " 코로나 무색한 아파트 청약 열기…연초 분양 75%가 1순위 마감 2020-04-27\n",
      " 서울·과천·분당 2년 살아야 청약1순위 자격 2020-04-20\n",
      " `로또청약` 후폭풍…과천 10명중 3명 부적격자 2020-04-14\n",
      " 서울·과천보다 비싼 고양 분양가…고무줄 잣대 논란 재점화 2020-04-13\n",
      " 고양 고무줄 분양가…1900만원 vs 2630만원 2020-04-10\n",
      " `미분양 무덤`이었던 인천 검단도 청약 열풍…최고경쟁률 경신 2020-04-09\n",
      " 한곳 오래살수록 아파트 청약 유리해지나…거주기간 가점 검토 2020-04-09\n",
      " 수도권 비규제 청약 인기라지만…분양가 시세보다 더 비싸 2020-04-07\n",
      " 이달 중순부터 수도권 청약1순위 거주기간 1년→2년 강화 2020-04-02\n",
      " 로또분양 현금부자 독식…\"채권입찰제 필요\" 2020-04-01\n",
      " 서울 10곳 6천가구 더…상한제 피해 분양 2020-03-24\n",
      " 앞으로 1년간은 급매 잡을 기회 2020-03-16\n",
      " \"무주택자인데…투기꾼 취급\" 청약 1순위 원안 확정에 실수요자.. 2020-03-12\n",
      " 16일부터 수도권·광역시 예비당첨자 비율 40%→300% 확대 2020-03-06\n",
      " 2월분양 당초계획의 반토막…\"3월도 막막\" 2020-03-03\n"
     ]
    }
   ],
   "source": [
    "for index in range(4):\n",
    "    res = requests.get('http://www.drapt.com/e_sale/index.htm?page_name=esale_news&menu_key=34&view_count=15&mode=&field=&s_que=&okey=wdate&start=' + str(index * 15))\n",
    "    soup = BeautifulSoup(res.content, 'html.parser')\n",
    "    \n",
    "    title_list = soup.select('a.c0000000')\n",
    "    date_list = soup.select('span.ffth.fs11.c807f7f')\n",
    "    \n",
    "    for index, title in enumerate(title_list):\n",
    "        print(title.get_text(), date_list[index].get_text())"
   ]
  },
  {
   "cell_type": "markdown",
   "metadata": {},
   "source": [
    "### 4. 특정 날짜에 해당하는 타이틀 가져오기 + 속성 이용하여 크롤링"
   ]
  },
  {
   "cell_type": "code",
   "execution_count": 3,
   "metadata": {},
   "outputs": [
    {
     "name": "stdout",
     "output_type": "stream",
     "text": [
      " 6만명 청약몰린 수색뉴타운…`DMC 3총사` 70점돼야 안심 2020-08-27 http://www.drapt.com/e_sale/index.htm?page_name=esale_news_view&menu_key=34&okey=wdate&uid=358302&start=0&mode=&s_que=&field=\n"
     ]
    }
   ],
   "source": [
    "today = datetime.date.today()\n",
    "days = datetime.timedelta(days=1)\n",
    "\n",
    "\n",
    "res = requests.get('http://www.drapt.com/e_sale/index.htm?page_name=esale_news&menu_key=34')\n",
    "soup = BeautifulSoup(res.content, 'html.parser')\n",
    "\n",
    "title_list  = soup.select('a.c0000000')\n",
    "date_list = soup.select('span.ffth.fs11.c807f7f')\n",
    "\n",
    "for index, title in enumerate(title_list):\n",
    "    if str(today - days) == date_list[index].get_text():\n",
    "        print(title.get_text(), date_list[index].get_text(), 'http://www.drapt.com/e_sale/' + title['href'])"
   ]
  },
  {
   "cell_type": "code",
   "execution_count": null,
   "metadata": {},
   "outputs": [],
   "source": []
  }
 ],
 "metadata": {
  "kernelspec": {
   "display_name": "benny",
   "language": "python",
   "name": "benny"
  },
  "language_info": {
   "codemirror_mode": {
    "name": "ipython",
    "version": 3
   },
   "file_extension": ".py",
   "mimetype": "text/x-python",
   "name": "python",
   "nbconvert_exporter": "python",
   "pygments_lexer": "ipython3",
   "version": "3.7.6"
  }
 },
 "nbformat": 4,
 "nbformat_minor": 4
}
