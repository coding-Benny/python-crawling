{
 "cells": [
  {
   "cell_type": "markdown",
   "metadata": {},
   "source": [
    "# 네이버 쇼핑 크롤링하기"
   ]
  },
  {
   "cell_type": "markdown",
   "metadata": {},
   "source": [
    "### 0. 라이브러리 import"
   ]
  },
  {
   "cell_type": "code",
   "execution_count": 1,
   "metadata": {},
   "outputs": [],
   "source": [
    "import requests\n",
    "from bs4 import BeautifulSoup"
   ]
  },
  {
   "cell_type": "markdown",
   "metadata": {},
   "source": [
    "### 1. 크롤링 준비"
   ]
  },
  {
   "cell_type": "code",
   "execution_count": 4,
   "metadata": {},
   "outputs": [],
   "source": [
    "res = requests.get('https://search.shopping.naver.com/best100v2/main.nhn')\n",
    "soup = BeautifulSoup(res.content, 'html.parser')"
   ]
  },
  {
   "cell_type": "markdown",
   "metadata": {},
   "source": [
    "### 2. 인기검색어"
   ]
  },
  {
   "cell_type": "code",
   "execution_count": 7,
   "metadata": {},
   "outputs": [
    {
     "name": "stdout",
     "output_type": "stream",
     "text": [
      "KF94 마스크\n",
      "마스크 스트랩\n",
      "헤드셋\n",
      "면도기\n",
      "마스크\n",
      "닌텐도 스위치\n",
      "에어팟 프로\n",
      "KF80 마스크\n",
      "보석십자수\n",
      "갤럭시 버즈 플러스\n"
     ]
    }
   ],
   "source": [
    "popular_keywords = soup.select(\"a._popular_srch_lst_li\")\n",
    "\n",
    "for popular_keyword in popular_keywords:\n",
    "    print(popular_keyword.get_text())"
   ]
  },
  {
   "cell_type": "markdown",
   "metadata": {},
   "source": [
    "### 3. KF94 마스크 상품명 및 가격"
   ]
  },
  {
   "cell_type": "code",
   "execution_count": 12,
   "metadata": {},
   "outputs": [],
   "source": [
    "res = requests.get('https://search.shopping.naver.com/search/all?frm=NVSHATC&origQuery=KF94%20%EB%A7%88%EC%8A%A4%ED%81%AC&pagingIndex=1&pagingSize=40&productSet=total&query=KF94%20%EB%A7%88%EC%8A%A4%ED%81%AC&sort=rel&timestamp=&viewType=list')\n",
    "soup = BeautifulSoup(res.content, 'html.parser')"
   ]
  },
  {
   "cell_type": "markdown",
   "metadata": {},
   "source": [
    "> 결과는 15개인데 왜 5개만 크롤링이 될까..? 🤔"
   ]
  },
  {
   "cell_type": "code",
   "execution_count": 32,
   "metadata": {},
   "outputs": [
    {
     "name": "stdout",
     "output_type": "stream",
     "text": [
      "랑비앙 마스크 KF-94 대형 30개 : 27,600원\n",
      "에어락 성인용 대형 KF94 황사 미세먼지 방역 마스크 50매 : 44,900원\n",
      "LG생활건강 에어워셔 소형&대형 황사마스크 KF94 25개 / 50개, 손소독제 모음(택1) : 43,000원\n",
      "미마 보건용 마스크 KF94 : 1,010원\n",
      "이디엘 제로베이 미세 황사 마스크 KF94 : 880원\n"
     ]
    }
   ],
   "source": [
    "mask_products = soup.select('div.basicList_title__3P9Q7')\n",
    "prices = soup.select('span.price_num__2WUXn')\n",
    "\n",
    "for mask_product, price in zip(mask_products, prices):\n",
    "    print(mask_product.get_text() + \" : \" + price.get_text())"
   ]
  }
 ],
 "metadata": {
  "kernelspec": {
   "display_name": "benny",
   "language": "python",
   "name": "benny"
  },
  "language_info": {
   "codemirror_mode": {
    "name": "ipython",
    "version": 3
   },
   "file_extension": ".py",
   "mimetype": "text/x-python",
   "name": "python",
   "nbconvert_exporter": "python",
   "pygments_lexer": "ipython3",
   "version": "3.7.6"
  }
 },
 "nbformat": 4,
 "nbformat_minor": 4
}
