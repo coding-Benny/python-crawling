{
 "cells": [
  {
   "cell_type": "markdown",
   "metadata": {},
   "source": [
    "# 네이버 뉴스 크롤링하기"
   ]
  },
  {
   "cell_type": "markdown",
   "metadata": {},
   "source": [
    "### 0. 라이브러리 import"
   ]
  },
  {
   "cell_type": "code",
   "execution_count": 2,
   "metadata": {},
   "outputs": [],
   "source": [
    "import requests\n",
    "from bs4 import BeautifulSoup"
   ]
  },
  {
   "cell_type": "markdown",
   "metadata": {},
   "source": [
    "### 1. 크롤링 준비"
   ]
  },
  {
   "cell_type": "code",
   "execution_count": 3,
   "metadata": {},
   "outputs": [],
   "source": [
    "res = requests.get('https://news.naver.com/')\n",
    "soup = BeautifulSoup(res.content, 'html.parser')"
   ]
  },
  {
   "cell_type": "markdown",
   "metadata": {},
   "source": [
    "### 2. 헤드라인 기사 타이틀 가져오기"
   ]
  },
  {
   "cell_type": "code",
   "execution_count": 7,
   "metadata": {},
   "outputs": [
    {
     "name": "stdout",
     "output_type": "stream",
     "text": [
      "구로 아파트 옆 라인도 2명 확진, 감염경로 놓고 커지는 의혹\n",
      "공매도 금지, 내년 3월 15일까지 6개월 연장 확정\n",
      "지성호 5700만원, 배현진 6200만원, 류호정 1억2000만원\n",
      "“전공의 1만여명 사직서”…정부, 미복귀자 고발 일단 보류\n",
      "'시무7조' 靑국민청원 공개로 전환…16만7200여명 동의(종합)\n"
     ]
    }
   ],
   "source": [
    "headline_title = soup.find_all('a', 'lnk_hdline_article')\n",
    "\n",
    "for headline in headline_title:\n",
    "    print (headline.get_text().strip())"
   ]
  },
  {
   "cell_type": "markdown",
   "metadata": {},
   "source": [
    "### 3. 가장 많이 본 뉴스 [사회] 부문 타이틀 가져오기"
   ]
  },
  {
   "cell_type": "code",
   "execution_count": 5,
   "metadata": {},
   "outputs": [
    {
     "name": "stdout",
     "output_type": "stream",
     "text": [
      "\"마스크 쓰라\"에 날아든 주먹…50대 지하철 폭행男 구속영장\n",
      "[단독] \"마스크 써달라\" 말에…출근길 공포의 폭행\n",
      "‘해운대온천센터’ 세신사 확진, 1000여 명 접촉\n",
      "‘검찰 유출 의혹’ 조국 딸 표창장 원본, 김미경 “내가 보냈을 수도”\n",
      "[단독] 딸 손잡고 가다가…CCTV에 잡힌 아찔한 순간\n",
      "정경심 판사 \"새로운게 빵빵 터지는데 조국씨는 확인 안해요?\"\n",
      "집단휴진 속 병원 응급실 찾아 3시간 헤매던 40대 결국 중태\n",
      "\"가만히 누워있어도 검사장 될 것\"이라던 이선욱도 결국 사표\n",
      "김미경 청와대 비서관 \"난가? 표창장 파일 박지원에 보낸 사람\"\n",
      "[속보] 내년 건강보험료율 2.89% 인상…보험료율 6.67%→6.86%\n"
     ]
    }
   ],
   "source": [
    "social_rank_title = soup.find_all('a', 'nclicks(rig.ranksoc)')\n",
    "\n",
    "for social_rank in social_rank_title:\n",
    "    print (social_rank.get_text())"
   ]
  },
  {
   "cell_type": "markdown",
   "metadata": {},
   "source": [
    "### 4. 코스피, 코스닥"
   ]
  },
  {
   "cell_type": "code",
   "execution_count": 26,
   "metadata": {},
   "outputs": [
    {
     "name": "stdout",
     "output_type": "stream",
     "text": [
      "코스피 : 2,344.45(하락24.87)\n",
      "코스닥 : 836.40(하락4.95)\n"
     ]
    }
   ],
   "source": [
    "today_finance = soup.find_all('div', 'num')\n",
    "\n",
    "kospi = today_finance[0].get_text().strip()\n",
    "kospi_rate = today_finance[1].get_text().strip()\n",
    "kosdaq = today_finance[2].get_text().strip()\n",
    "kosdaq_rate = today_finance[3].get_text().strip()\n",
    "\n",
    "print(\"코스피 : \" + kospi + \"(\" + kospi_rate + \")\")\n",
    "print(\"코스닥 : \" + kosdaq + \"(\" + kosdaq_rate + \")\")"
   ]
  },
  {
   "cell_type": "markdown",
   "metadata": {},
   "source": [
    "### 5. IT/과학 섹션별 뉴스"
   ]
  },
  {
   "cell_type": "code",
   "execution_count": 7,
   "metadata": {},
   "outputs": [
    {
     "name": "stdout",
     "output_type": "stream",
     "text": [
      "\"거리두기 2m? 코로나 비말 8m까지 날아간다\"\n",
      "[안녕? 자연] 피부·이빨 없는 상어 최초 발견…원인은 환경오염\n",
      "\"삼성·LG와 정면 승부\"…日 JDI, LCD 접고 OLED 전환 가속\n",
      "수도권 30일부터 강화된 2단계 거리두기, 언택트 가속화\n",
      "페북도 애플과 '앱스토어 수수료' 갈등\n"
     ]
    }
   ],
   "source": [
    "it_science = soup.select('#section_it strong')\n",
    "for title in it_science:\n",
    "    print(title.get_text())"
   ]
  },
  {
   "cell_type": "code",
   "execution_count": null,
   "metadata": {},
   "outputs": [],
   "source": []
  }
 ],
 "metadata": {
  "kernelspec": {
   "display_name": "benny",
   "language": "python",
   "name": "benny"
  },
  "language_info": {
   "codemirror_mode": {
    "name": "ipython",
    "version": 3
   },
   "file_extension": ".py",
   "mimetype": "text/x-python",
   "name": "python",
   "nbconvert_exporter": "python",
   "pygments_lexer": "ipython3",
   "version": "3.7.6"
  }
 },
 "nbformat": 4,
 "nbformat_minor": 4
}
