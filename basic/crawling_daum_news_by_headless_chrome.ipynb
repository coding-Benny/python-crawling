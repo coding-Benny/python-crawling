{
 "cells": [
  {
   "cell_type": "markdown",
   "metadata": {},
   "source": [
    "# 브라우저를 제어해서 다음 뉴스 기사 제목 가져오기"
   ]
  },
  {
   "cell_type": "markdown",
   "metadata": {},
   "source": [
    "## 0. 라이브러리 import"
   ]
  },
  {
   "cell_type": "code",
   "execution_count": 1,
   "metadata": {},
   "outputs": [],
   "source": [
    "from selenium import webdriver\n",
    "from selenium.webdriver.common.keys import Keys\n",
    "import time\n",
    "\n",
    "chromedriver = 'C:/dev/chromedriver/chromedriver.exe'\n",
    "\n",
    "headless_options = webdriver.ChromeOptions()\n",
    "headless_options.add_argument('headless')\n",
    "headless_options.add_argument('window-size=1920x1080')\n",
    "headless_options.add_argument(\"disable-gpu\")\n",
    "headless_options.add_argument(\"User-Agent: Mozilla/5.0 (Linux; Android 6.0; Nexus 5 Build/MRA58N) AppleWebKit/537.36 (KHTML, like Gecko) Chrome/85.0.4183.102 Mobile Safari/537.36\")\n",
    "headless_options.add_argument(\"lang=ko_KR\")\n",
    "\n",
    "driver = webdriver.Chrome(chromedriver, options=headless_options)"
   ]
  },
  {
   "cell_type": "markdown",
   "metadata": {},
   "source": [
    "## 1. 크롤링할 뉴스 페이지"
   ]
  },
  {
   "cell_type": "code",
   "execution_count": 2,
   "metadata": {},
   "outputs": [],
   "source": [
    "driver.get('https://news.v.daum.net/v/20200915112217319')"
   ]
  },
  {
   "cell_type": "markdown",
   "metadata": {},
   "source": [
    "## 2. 제목 크롤링(body 내에서)"
   ]
  },
  {
   "cell_type": "code",
   "execution_count": 3,
   "metadata": {},
   "outputs": [
    {
     "name": "stdout",
     "output_type": "stream",
     "text": [
      "마이크로소프트 \"수중 데이터센터 육지보다 8배 안정적\"\n"
     ]
    }
   ],
   "source": [
    "title = driver.find_element_by_tag_name('h3')\n",
    "# title = driver.find_element_by_class_name('tit_view')\n",
    "# title = driver.find_element_by_css_selector('h3.tit_view')\n",
    "print(title.text)"
   ]
  },
  {
   "cell_type": "markdown",
   "metadata": {},
   "source": [
    "## 3. 제목 크롤링(head 내에서)"
   ]
  },
  {
   "cell_type": "code",
   "execution_count": 4,
   "metadata": {},
   "outputs": [
    {
     "name": "stdout",
     "output_type": "stream",
     "text": [
      "마이크로소프트 \"수중 데이터센터 육지보다 8배 안정적\"\n"
     ]
    }
   ],
   "source": [
    "head_title = driver.find_element_by_css_selector('head > title')\n",
    "print(head_title.get_attribute('text'))  # head 내 데이터를 가져올 때는 get_attribute 사용해야 함"
   ]
  },
  {
   "cell_type": "markdown",
   "metadata": {},
   "source": [
    "## 4. 뉴스 기사 내용 크롤링"
   ]
  },
  {
   "cell_type": "code",
   "execution_count": 5,
   "metadata": {},
   "outputs": [
    {
     "name": "stdout",
     "output_type": "stream",
     "text": [
      "(지디넷코리아=남혁우 기자)수중에 구축한 무인 데이터센터가 육지에서보다 더 안정적으로 운영될 수 있는 것으로 나타났다.\n",
      "마이크로소프트는 14일(현지시간) 수중 데이터센터 구축 사업인 '프로젝트 네이틱'의 성과에 대해 공식 사이트를 통해 이같이 밝혔다.\n",
      "2년간 데이터센터 서버의 안정성과 성능을 모니터링한 연구팀의 발표 결과에 따르면 수중 데이터센터는 실현 가능할 뿐 아니라 육지보다 약 8배 안정적인 것으로 나타났다.\n",
      "심해에서 끌어올린 수중 데이터센터(이미지=마이크로소프트)\n",
      "프로젝트 네이틱 팀의 스펜서 포워즈 연구원은 “산소보다 부식성이 덜한 질소로 채워져 있고 온도 변화, 사람의 이동 중 발생하는 충돌 등 고장이 될 수 있는 변수가 최소화된 것이 주효한 것 같다”고 높아진 안정성에 대해 설명했다.\n",
      "그는 “분석결과가 입증되면 지상데이터 센터에도 적용할 수 있을 것”이라고 덧붙였다.\n",
      "마이크로소프트는 데이터센터의 발열을 친환경적으로 해결하기 위해 심해에 데이터센터를 구축하는 프로젝트 네이틱을 2015년 시작했다. 차가운 심해 바닷물로 데이터센터를 냉각하고 조류와 풍력, 태양열로 전기를 공급한다는 계획이다.\n",
      "테스트용으로 제작된 수중 데이터센터는 2018년 스코틀랜드 북부 오크니섬 연안에 설치됐다.\n",
      "바닷물 침투를 막고 수압을 견디기 위해 원통형 컨테이너 형태로 제작된 수중 데이터센터는 27.6 페타바이트 용량의 저장장치와 86대의 서버로 이뤄졌다.\n",
      "마이크로소프트의 벤 커틀러 프로젝트 네이틱 매니저는 “프로젝트 네이틱은 담수 자원을 사용하지 않고도 데이터센터를 유지할 수 있음을 보여줬다”며 “앞으로 우리가 확인한 기술을 어떻게 활용할 것인지에 대해 노력하려 한다”고 말했다.\n",
      "남혁우 기자(firstblood@zdnet.co.kr)\n"
     ]
    }
   ],
   "source": [
    "content = driver.find_element_by_id('harmonyContainer')\n",
    "print(content.text)"
   ]
  },
  {
   "cell_type": "markdown",
   "metadata": {},
   "source": [
    "## 5. 네비게이션 크롤링"
   ]
  },
  {
   "cell_type": "code",
   "execution_count": 6,
   "metadata": {},
   "outputs": [
    {
     "name": "stdout",
     "output_type": "stream",
     "text": [
      "홈\n",
      "사회\n",
      "정치\n",
      "경제\n",
      "국제\n",
      "문화\n",
      "IT\n",
      "랭킹\n",
      "연재\n",
      "포토\n",
      "TV\n",
      "1boon\n",
      "갤러리\n",
      "수원\n",
      "수원 24 ℃\n"
     ]
    }
   ],
   "source": [
    "nav = driver.find_element_by_css_selector(\"div[role='navigation']\")\n",
    "print(nav.text)"
   ]
  },
  {
   "cell_type": "code",
   "execution_count": 7,
   "metadata": {},
   "outputs": [],
   "source": [
    "driver.quit()"
   ]
  },
  {
   "cell_type": "code",
   "execution_count": null,
   "metadata": {},
   "outputs": [],
   "source": []
  }
 ],
 "metadata": {
  "kernelspec": {
   "display_name": "benny",
   "language": "python",
   "name": "benny"
  },
  "language_info": {
   "codemirror_mode": {
    "name": "ipython",
    "version": 3
   },
   "file_extension": ".py",
   "mimetype": "text/x-python",
   "name": "python",
   "nbconvert_exporter": "python",
   "pygments_lexer": "ipython3",
   "version": "3.7.6"
  }
 },
 "nbformat": 4,
 "nbformat_minor": 4
}
