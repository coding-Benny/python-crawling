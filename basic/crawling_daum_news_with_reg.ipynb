{
 "cells": [
  {
   "cell_type": "markdown",
   "metadata": {},
   "source": [
    "# 정규표현식을 사용하여 뉴스 기사 링크 가져오기"
   ]
  },
  {
   "cell_type": "markdown",
   "metadata": {},
   "source": [
    "## 0. 라이브러리 import"
   ]
  },
  {
   "cell_type": "code",
   "execution_count": 1,
   "metadata": {},
   "outputs": [],
   "source": [
    "import re\n",
    "import requests\n",
    "from bs4 import BeautifulSoup"
   ]
  },
  {
   "cell_type": "markdown",
   "metadata": {},
   "source": [
    "## 1. 다음 뉴스 [IT] 헤드라인 기사 제목, 링크 가져오기"
   ]
  },
  {
   "cell_type": "code",
   "execution_count": 2,
   "metadata": {},
   "outputs": [],
   "source": [
    "res = requests.get('https://news.daum.net/digital')\n",
    "soup = BeautifulSoup(res.content, 'html.parser')\n",
    "links = soup.select('a[href]')"
   ]
  },
  {
   "cell_type": "code",
   "execution_count": 3,
   "metadata": {},
   "outputs": [
    {
     "name": "stdout",
     "output_type": "stream",
     "text": [
      "추가전파 '일파만파'..사랑제일교회 관련 누적 확진자 1,000명 돌파(종합) https://news.v.daum.net/v/20200829150015134\n",
      "'가로본능'에 가성비까지 LG Q92..대반격 시작됐다 https://news.v.daum.net/v/20200829110004526\n",
      "당신이 '현질'하면..30%는 여기로 간다[오지현의 하드캐리] https://news.v.daum.net/v/20200829130317932\n",
      "수면 부족 방치하면 늘 짜증 내는 사람 되기 쉽다 https://news.v.daum.net/v/20200829133931318\n",
      "[주말N수학] 예술가가 알고리즘을 공부하는 이유 https://news.v.daum.net/v/20200829140012530\n",
      "\"편리하고 착한 디지털 기술..윤리적으로 잘 써야죠\" https://news.v.daum.net/v/20200829180205129\n",
      "\"싼 게 비지떡? NO!\".. 반값폰 당신의 선택은? [IT선빵!] https://news.v.daum.net/v/20200829180913195\n",
      "향수부터 포장 용기까지..청소년 ADHD 원인 찾았다 (연구) https://news.v.daum.net/v/20200829182601340\n",
      "'천문학' 첫발 뗀 지 반세기 만에.. 본고장 伊와 어깨 나란히 [마이 라이프] https://news.v.daum.net/v/20200829190129671\n",
      "뭔가 놓치고 있는 '자컨'의 시대 https://news.v.daum.net/v/20200829220706532\n"
     ]
    }
   ],
   "source": [
    "for link in links:\n",
    "    if re.search('https://news.v.daum.net/v/[0-9]+', link['href']):\n",
    "        if not re.search('article_thumb', str(link['data-tiara-layer'])):\n",
    "            res_sub = requests.get(link['href'])\n",
    "            soup_sub = BeautifulSoup(res_sub.content, 'html.parser')\n",
    "            print(soup_sub.select_one('h3.tit_view').get_text(), link['href'])"
   ]
  }
 ],
 "metadata": {
  "kernelspec": {
   "display_name": "benny",
   "language": "python",
   "name": "benny"
  },
  "language_info": {
   "codemirror_mode": {
    "name": "ipython",
    "version": 3
   },
   "file_extension": ".py",
   "mimetype": "text/x-python",
   "name": "python",
   "nbconvert_exporter": "python",
   "pygments_lexer": "ipython3",
   "version": "3.7.6"
  }
 },
 "nbformat": 4,
 "nbformat_minor": 4
}
