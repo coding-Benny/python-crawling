{
 "cells": [
  {
   "cell_type": "markdown",
   "metadata": {},
   "source": [
    "# 브라우저를 제어해서 트위터 사이트 로그인하기"
   ]
  },
  {
   "cell_type": "markdown",
   "metadata": {},
   "source": [
    "## 0. 라이브러리 import"
   ]
  },
  {
   "cell_type": "code",
   "execution_count": 1,
   "metadata": {},
   "outputs": [],
   "source": [
    "from selenium import webdriver\n",
    "from selenium.webdriver.common.keys import Keys\n",
    "import time\n",
    "\n",
    "chromedriver = 'C:/dev/chromedriver/chromedriver.exe'\n",
    "\n",
    "headless_options = webdriver.ChromeOptions()\n",
    "headless_options.add_argument('headless')\n",
    "headless_options.add_argument('window-size=1920x1080')\n",
    "headless_options.add_argument(\"disable-gpu\")\n",
    "headless_options.add_argument(\"User-Agent: Mozilla/5.0 (Linux; Android 6.0; Nexus 5 Build/MRA58N) AppleWebKit/537.36 (KHTML, like Gecko) Chrome/85.0.4183.102 Mobile Safari/537.36\")\n",
    "headless_options.add_argument(\"lang=ko_KR\")\n",
    "\n",
    "driver = webdriver.Chrome(chromedriver, options=headless_options)"
   ]
  },
  {
   "cell_type": "markdown",
   "metadata": {},
   "source": [
    "## 1. 크롤링 할 페이지"
   ]
  },
  {
   "cell_type": "code",
   "execution_count": 2,
   "metadata": {},
   "outputs": [],
   "source": [
    "driver.get('https://twitter.com')"
   ]
  },
  {
   "cell_type": "markdown",
   "metadata": {},
   "source": [
    "## 2. 로그인 정보"
   ]
  },
  {
   "cell_type": "code",
   "execution_count": 3,
   "metadata": {},
   "outputs": [],
   "source": [
    "id_field = driver.find_element_by_name(\"session[username_or_email]\")\n",
    "id_field.clear()\n",
    "id_field.send_keys('CodingBenny')\n",
    "\n",
    "pw_field = driver.find_element_by_name(\"session[password]\")\n",
    "pw_field.clear()\n",
    "pw_field.send_keys('jhzzang11!')  # input password\n",
    "pw_field.send_keys(Keys.RETURN)\n",
    "\n",
    "time.sleep(2)"
   ]
  },
  {
   "cell_type": "markdown",
   "metadata": {},
   "source": [
    "## 3. 트윗 내용 크롤링 하기"
   ]
  },
  {
   "cell_type": "code",
   "execution_count": 4,
   "metadata": {},
   "outputs": [
    {
     "name": "stdout",
     "output_type": "stream",
     "text": [
      "애플, Fitness+ 와 Apple One 통합 구독서비스 공개  https://j.mp/3hz4VDX \n",
      "Fitness+\n",
      "- 애플워치 + iPhone/iPad/TV 로 전문 트레이너와 함께 하는 프로그램 \n",
      "- 개인화된 운동 추천\n",
      "- 사이클링, 러닝머신, 로잉, 고강도 인터벌 트레이닝, 근력 운동, 요가, 댄스, 코어 트레이닝 및 마무리 운...\n",
      "애플, iPad Air 4세대 및 iPad 8세대 공개 https://j.mp/35Mm1vA \n",
      "iPad Air \n",
      "- 10.9형 2360x1640 디스플레이, 트루톤/라미네이팅/반사방지코팅\n",
      "- 전원버튼에 추가된 Touch ID센서\n",
      "- A14 Bionic + Neural Engine 탑재\n",
      "- 실버, 스페이스 그레이, 로즈 골드, 그린 및 스카이 블루\n",
      "- 전면 7MP ...\n",
      "Apple Watch Series 6 공개 https://j.mp/3iySVnj \n",
      "- 혈중 산소 센서로 산소포화도 측정\n",
      "- 상시감지형 고도계로 30cm 이내의 고도변화 감지 \n",
      "- A13 Bionic을 사용한 S6 SiP, U1칩 내장\n",
      "- 상시표시형 디스플레이 개선으로 전작보다 2.5배 밝은 화면 \n",
      "- 파란색 알루미늄과 (PRODUCT)RED 색상 ...\n",
      "코로나 이후 집집마다 택배시키는 양이 최소 2배 이상으로 는듯.. 쓰레기대란이 코앞이라고 합니다. 플라스틱 사용을 줄이는 차원에서 생수 대신 브리타 정수기 사용을 추천해봅니다. 6천원 정도로 2~4인 가족이 한달 동안 깨끗한 물을 마실 수 있습니다.\n",
      "백엔드팀만 존재하였고 Python으로 구축된 서비스를 프론트엔드팀 추가로 서비스 영역을 점진적으로 분리하기 위한 시도와 NEXT.js로 해결한 사례를 소개합니다.\n",
      "https://buff.ly/2RvmwC0\n",
      "#python #javascript\n",
      "삼성 오픈 소스 컨퍼런스 2020 (SOSCON 2020)\n",
      "날짜: 2020년 10월 14일\n",
      "개발자의 모습1\n",
      "파이콘 한국 2020 (온라인)\n",
      "날짜: 2020/9/26(토) - 9/27(일)\n",
      "https://pycon.kr/2020\n",
      "꾸덕 크림 파스타\n",
      "국물 크림 파스타 다 좋아함\n",
      "오늘 저 베이컨으로 해먹은 파스타~!\n",
      " Find the ECMAScript version of any package:\n",
      "\n",
      "https://detect-es-version.glitch.me\n",
      "\n",
      "by \n",
      "@GaryLChew\n",
      " Launch Announcement - AWS Amplify now supports Next.js and SSR with major enhancements to the REST API, GraphQL API, Auth, and DataStore categories.\n",
      "\n",
      "Launch post:\n",
      "https://go.aws/3bZ39Lf\n",
      "\n",
      "Getting Started with Next.js:\n",
      "https://go.aws/33x5Fo8\n",
      "\n",
      "Docs: \n",
      "https://go.aws/33ChF7Y\n",
      "베이컨 좋아하는데 모양이 크게 상관 없으면 이렇게 1키로짜리 사둬도 좋습니다\n",
      "오늘 크림파스타를 맛있게 해먹었는데 또 땡긴다. 그러므로 내일 또 먹을 것이다. 베이컨 파지로 1키로 사놓으니까 아주 잘 쓴다\n",
      "알바하는 대학생이지만 미니스탁으로 처음 만원 이익 낸 기념으로 정기결제 신청하고 게임이나 옷에 나가는 지출 줄이기로 했음 여성의당이 사라지는 상상을 했더니 질 낮은 (여성용) 맨투맨 한 장 없어도 되더라\n",
      "#여성의당_1만원_챌린지\n"
     ]
    }
   ],
   "source": [
    "tweets = driver.find_elements_by_css_selector(\"div.css-1dbjc4n > div[lang]\")\n",
    "for tweet in tweets:\n",
    "    print(tweet.text)"
   ]
  },
  {
   "cell_type": "code",
   "execution_count": 5,
   "metadata": {},
   "outputs": [],
   "source": [
    "driver.quit()"
   ]
  },
  {
   "cell_type": "code",
   "execution_count": null,
   "metadata": {},
   "outputs": [],
   "source": []
  }
 ],
 "metadata": {
  "kernelspec": {
   "display_name": "benny",
   "language": "python",
   "name": "benny"
  },
  "language_info": {
   "codemirror_mode": {
    "name": "ipython",
    "version": 3
   },
   "file_extension": ".py",
   "mimetype": "text/x-python",
   "name": "python",
   "nbconvert_exporter": "python",
   "pygments_lexer": "ipython3",
   "version": "3.7.6"
  }
 },
 "nbformat": 4,
 "nbformat_minor": 4
}
