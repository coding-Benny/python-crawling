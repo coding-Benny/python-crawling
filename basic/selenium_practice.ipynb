{
 "cells": [
  {
   "cell_type": "markdown",
   "metadata": {},
   "source": [
    "# Selenium 기본 사용법 익히기"
   ]
  },
  {
   "cell_type": "markdown",
   "metadata": {},
   "source": [
    "## 0. 라이브러리 import"
   ]
  },
  {
   "cell_type": "code",
   "execution_count": 1,
   "metadata": {},
   "outputs": [],
   "source": [
    "from selenium import webdriver\n",
    "from selenium.webdriver.common.keys import Keys\n",
    "import time\n",
    "\n",
    "chromedriver = 'C:/dev/chromedriver/chromedriver.exe'\n",
    "# driver = webdriver.Chrome(chromedriver)\n",
    "\n",
    "phantomjs = '../web_driver/phantomjs.exe'\n",
    "# driver = webdriver.PhantomJS(phantomjs)\n",
    "\n",
    "headless_options = webdriver.ChromeOptions()\n",
    "headless_options.add_argument('headless')\n",
    "headless_options.add_argument('window-size=1920x1080')\n",
    "headless_options.add_argument(\"disable-gpu\")\n",
    "headless_options.add_argument(\"User-Agent: Mozilla/5.0 (Linux; Android 6.0; Nexus 5 Build/MRA58N) AppleWebKit/537.36 (KHTML, like Gecko) Chrome/85.0.4183.102 Mobile Safari/537.36\")\n",
    "headless_options.add_argument(\"lang=ko_KR\")\n",
    "\n",
    "driver = webdriver.Chrome(chromedriver, options=headless_options)"
   ]
  },
  {
   "cell_type": "markdown",
   "metadata": {},
   "source": [
    "## 1. 크롤링할 페이지"
   ]
  },
  {
   "cell_type": "code",
   "execution_count": 2,
   "metadata": {},
   "outputs": [],
   "source": [
    "driver.get('http://www.python.org')\n",
    "\n",
    "# 페이지 타이틀에 지정한 문구가 없으면 에러를 발생\n",
    "assert \"Python\" in driver.title"
   ]
  },
  {
   "cell_type": "markdown",
   "metadata": {},
   "source": [
    "## 2. 브라우저 제어 및 크롤링"
   ]
  },
  {
   "cell_type": "code",
   "execution_count": 3,
   "metadata": {},
   "outputs": [
    {
     "name": "stdout",
     "output_type": "stream",
     "text": [
      "\n",
      "Results\n",
      "Download Python for Other Platforms\n",
      "Python Documentation by Version\n",
      "Release – Python 2.5.3\n",
      "Python 2.5.4 Release\n",
      "Release – Python 2.5.4\n",
      "Python 2.5.3 Release\n",
      "Python 2.5 Release\n",
      "Python 2.5.2 Release\n",
      "Sunsetting Python 2\n",
      "Python 2.5.1 Release\n",
      "Release – Python 3.1.4\n",
      "Release – Python 2.5.0\n",
      "Release – Python 2.5.2\n",
      "Python 3.1.4 Release\n",
      "Python 3.1.3 Release\n",
      "Release – Python 2.5.1\n",
      "Python 3.2.1 Release\n",
      "Release – Python 2.7.9rc1\n",
      "Python 3.0 Release\n",
      "Python 3.2.5 Release\n"
     ]
    }
   ],
   "source": [
    "search = driver.find_element_by_name(\"q\")\n",
    "search.clear()\n",
    "\n",
    "# 지정 단어 검색\n",
    "search.send_keys(\"python\")\n",
    "\n",
    "# 엔터 입력. 특수 키 정보는 dir(Keys)로 찾아볼 수 있음\n",
    "search.send_keys(Keys.RETURN)\n",
    "\n",
    "# 명시적으로 일정 시간을 기다릴 수 있음(초 단위)\n",
    "time.sleep(2)\n",
    "\n",
    "assert 'No results found.' not in driver.page_source\n",
    "\n",
    "h3s = driver.find_elements_by_tag_name(\"h3\")\n",
    "for h3 in h3s:\n",
    "    print(h3.text)\n",
    "\n",
    "# 크롬 브라우저 닫기\n",
    "driver.quit()"
   ]
  },
  {
   "cell_type": "code",
   "execution_count": null,
   "metadata": {},
   "outputs": [],
   "source": []
  }
 ],
 "metadata": {
  "kernelspec": {
   "display_name": "benny",
   "language": "python",
   "name": "benny"
  },
  "language_info": {
   "codemirror_mode": {
    "name": "ipython",
    "version": 3
   },
   "file_extension": ".py",
   "mimetype": "text/x-python",
   "name": "python",
   "nbconvert_exporter": "python",
   "pygments_lexer": "ipython3",
   "version": "3.7.6"
  }
 },
 "nbformat": 4,
 "nbformat_minor": 4
}
